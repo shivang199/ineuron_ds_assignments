{
 "cells": [
  {
   "cell_type": "code",
   "execution_count": null,
   "id": "448566cf",
   "metadata": {},
   "outputs": [],
   "source": [
    "1. In the below elements which of them are values or an expression? eg:- values can be\n",
    "integer or string and expressions will be mathematical operators.\n",
    "ans:\n",
    "* : expression\n",
    "'hello': value\n",
    "-87.8 : value\n",
    "- : expression\n",
    "/ : expression\n",
    "+ : expression\n",
    "6 : value"
   ]
  },
  {
   "cell_type": "code",
   "execution_count": null,
   "id": "38088d0d",
   "metadata": {},
   "outputs": [],
   "source": [
    "2. What is the difference between string and variable?\n",
    "ans:\n",
    "A string is a value representing text eg: \"Hello\"\n",
    "A variable is a name that can refer to any value , eg : variable = \"Hello\"\n"
   ]
  },
  {
   "cell_type": "code",
   "execution_count": null,
   "id": "139217a8",
   "metadata": {},
   "outputs": [],
   "source": [
    "3. Describe three different data types.\n",
    "ans:\n",
    "int - it stores interger values \n",
    "str - it stores words or text values\n",
    "float - it stores decimal values for precision uption 15 decimal places"
   ]
  },
  {
   "cell_type": "code",
   "execution_count": null,
   "id": "bdb56764",
   "metadata": {},
   "outputs": [],
   "source": [
    "4. What is an expression made up of? What do all expressions do?\n",
    "ans:\n",
    "    A mix of operators, constants, and variables make up an expression. \n",
    "    They are used to produce a new value, an expression can include one or more operands and one or more operators. \n",
    "    eg : x+y"
   ]
  },
  {
   "cell_type": "code",
   "execution_count": null,
   "id": "e2b48154",
   "metadata": {},
   "outputs": [],
   "source": [
    "5. This assignment statements, like spam = 10. What is the difference between an\n",
    "expression and a statement?\n",
    "ans:\n",
    "    Statements represent an action or command e.g print statements, assignment statements where as an expression can include one or more operands and one or more operators"
   ]
  },
  {
   "cell_type": "code",
   "execution_count": 4,
   "id": "664912fe",
   "metadata": {},
   "outputs": [
    {
     "name": "stdout",
     "output_type": "stream",
     "text": [
      "22\n"
     ]
    }
   ],
   "source": [
    "#6. After running the following code, what does the variable bacon contain?\n",
    "bacon = 22\n",
    "bacon + 1\n",
    "\n",
    "print(bacon)\n",
    "\n",
    "ans: variable bacon contains the value 22"
   ]
  },
  {
   "cell_type": "code",
   "execution_count": 8,
   "id": "cb62eca5",
   "metadata": {},
   "outputs": [
    {
     "name": "stdout",
     "output_type": "stream",
     "text": [
      "spamspamspam\n",
      "spamspamspam\n"
     ]
    }
   ],
   "source": [
    "#7. What should the values of the following two terms be?\n",
    "a = \"spam\" + \"spamspam\"\n",
    "b = \"spam\" * 3\n",
    "print(a)\n",
    "print(b)\n",
    "\n",
    "ans : \n",
    "    the values of the following 2 terms will be \"spamspamspam\" \"spamspamspam\""
   ]
  },
  {
   "cell_type": "code",
   "execution_count": null,
   "id": "8b0b4ed8",
   "metadata": {},
   "outputs": [],
   "source": [
    "8.Why is eggs a valid variable name while 100 is invalid?\n",
    "ans:\n",
    "    variable names cannot begin with numbers hence eggs is valid while 100 is invalid variable name"
   ]
  },
  {
   "cell_type": "code",
   "execution_count": null,
   "id": "f57a9e00",
   "metadata": {},
   "outputs": [],
   "source": [
    "9. What three functions can be used to get the integer, floating-point number, or string\n",
    "version of a value?\n",
    "ans :\n",
    "    int(), float() and str()"
   ]
  },
  {
   "cell_type": "code",
   "execution_count": 11,
   "id": "2fbcdd5c",
   "metadata": {},
   "outputs": [
    {
     "name": "stdout",
     "output_type": "stream",
     "text": [
      "I have eaten99 burritos.\n"
     ]
    }
   ],
   "source": [
    "#10. Why does this expression cause an error? How can you fix it?\n",
    "a = \"I have eaten\" + str(99) + \" burritos.\"\n",
    "print(a)\n",
    "#ans : \n",
    "#  TypeError: can only concatenate str (not \"int\") to str , only string can be concatenated with string using + , hences it gives error\n",
    "#  It can be solved by passing 99 as string value by using str() fucntion"
   ]
  },
  {
   "cell_type": "code",
   "execution_count": null,
   "id": "66946b7e",
   "metadata": {},
   "outputs": [],
   "source": []
  }
 ],
 "metadata": {
  "kernelspec": {
   "display_name": "Python 3 (ipykernel)",
   "language": "python",
   "name": "python3"
  },
  "language_info": {
   "codemirror_mode": {
    "name": "ipython",
    "version": 3
   },
   "file_extension": ".py",
   "mimetype": "text/x-python",
   "name": "python",
   "nbconvert_exporter": "python",
   "pygments_lexer": "ipython3",
   "version": "3.9.12"
  }
 },
 "nbformat": 4,
 "nbformat_minor": 5
}
