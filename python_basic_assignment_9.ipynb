{
 "cells": [
  {
   "cell_type": "code",
   "execution_count": null,
   "id": "11b267e6",
   "metadata": {},
   "outputs": [],
   "source": [
    "1. To what does a relative path refer?\n",
    "ans-The path to a file with respect to your current working directory is known as a relative path (PWD). \n"
   ]
  },
  {
   "cell_type": "code",
   "execution_count": null,
   "id": "97172b0c",
   "metadata": {},
   "outputs": [],
   "source": [
    "2. What does an absolute path start with your operating system?\n",
    "ans -- The absolute path in Linux-based systems begins with /.\n",
    "Unlike Windows-based systems, where the absolute path begins with C: "
   ]
  },
  {
   "cell_type": "code",
   "execution_count": null,
   "id": "65247049",
   "metadata": {},
   "outputs": [],
   "source": [
    "3. What do the functions os.getcwd() and os.chdir() do?\n",
    "ans-- The location of the current working directory is given via the os.getcwd() method (CWD).\n",
    "As opposed to the Python os.chdir() method, which changes the current working directory to a specified path. "
   ]
  },
  {
   "cell_type": "code",
   "execution_count": null,
   "id": "bb05a471",
   "metadata": {},
   "outputs": [],
   "source": [
    "4. What are the . and .. folders?\n",
    "ans--. Represents the Current Directory Whereas .. Represents the Parent Directory of the Current Directory"
   ]
  },
  {
   "cell_type": "code",
   "execution_count": null,
   "id": "048e13e3",
   "metadata": {},
   "outputs": [],
   "source": [
    "5. In C:\\bacon\\eggs\\spam.txt, which part is the dir name, and which part is the base name?\n",
    "ans:--- C:\\bacon\\eggs directory name , spam.txt - base name"
   ]
  },
  {
   "cell_type": "code",
   "execution_count": null,
   "id": "125deb1c",
   "metadata": {},
   "outputs": [],
   "source": [
    "6. What are the three “mode” arguments that can be passed to the open() function?\n",
    "ans-- Syntax: open(file_name, mode) \n",
    "mode: This parameter is a string that is used to specify the mode in which the file is to be opened. The following strings can be used to activate a specific mode:\n",
    "\n",
    "“r”: This string is used to read(only) the file. It is passed as default if no parameter is supplied and returns an error if no such file exists.\n",
    "“w”: This string is used for writing on/over the file. If the file with the supplied name doesn’t exist, it creates one for you.\n",
    "“a”: This string is used to add(append) content to an existing file. If no such file exists, it creates one for you."
   ]
  },
  {
   "cell_type": "code",
   "execution_count": null,
   "id": "1be02d44",
   "metadata": {},
   "outputs": [],
   "source": [
    "7. What happens if an existing file is opened in write mode?\n",
    "ans-- Any existing information in a file will be overwritten if this mode is used.\n",
    "A new file will be generated if the requested one doesn't already exist. "
   ]
  },
  {
   "cell_type": "code",
   "execution_count": null,
   "id": "a8c51de9",
   "metadata": {},
   "outputs": [],
   "source": [
    "8. How do you tell the difference between read() and readlines()?\n",
    "ans --The read() function reads the entire file at once and prints the first characters that \n",
    "take up the number of bytes specified in the parentheses, as opposed to the readline()\n",
    "function, which reads and prints only the \n",
    "first characters that take up the number of bytes specified in the parenthesis. "
   ]
  },
  {
   "cell_type": "code",
   "execution_count": null,
   "id": "e1a79e12",
   "metadata": {},
   "outputs": [],
   "source": [
    "9. What data structure does a shelf value resemble?\n",
    "ans - A shelf value resembles a dictionary"
   ]
  }
 ],
 "metadata": {
  "kernelspec": {
   "display_name": "Python 3 (ipykernel)",
   "language": "python",
   "name": "python3"
  },
  "language_info": {
   "codemirror_mode": {
    "name": "ipython",
    "version": 3
   },
   "file_extension": ".py",
   "mimetype": "text/x-python",
   "name": "python",
   "nbconvert_exporter": "python",
   "pygments_lexer": "ipython3",
   "version": "3.9.12"
  }
 },
 "nbformat": 4,
 "nbformat_minor": 5
}
