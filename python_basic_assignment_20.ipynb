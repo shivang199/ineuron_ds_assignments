{
 "cells": [
  {
   "cell_type": "code",
   "execution_count": 1,
   "id": "63e6df1e",
   "metadata": {},
   "outputs": [
    {
     "name": "stdout",
     "output_type": "stream",
     "text": [
      "This is a test of the emergency text system,\n"
     ]
    }
   ],
   "source": [
    "# 1. Set the variable test1 to the \n",
    "# string 'This is a test of the emergency text system,' and save test1 to a file named test.txt.\n",
    "test1 = 'This is a test of the emergency text system,'\n",
    "print(test1)\n",
    "with open('test.txt','w') as file:\n",
    "    file.write(test1)\n",
    "    file.close()"
   ]
  },
  {
   "cell_type": "code",
   "execution_count": 4,
   "id": "befd9314",
   "metadata": {},
   "outputs": [
    {
     "name": "stdout",
     "output_type": "stream",
     "text": [
      "This is a test of the emergency text system,\n"
     ]
    }
   ],
   "source": [
    "with open('test.txt','r') as file:\n",
    "    print(file.read())"
   ]
  },
  {
   "cell_type": "code",
   "execution_count": 5,
   "id": "1562d47f",
   "metadata": {},
   "outputs": [
    {
     "name": "stdout",
     "output_type": "stream",
     "text": [
      "This is a test of the emergency text system,\n"
     ]
    }
   ],
   "source": [
    "# 2. Read the contents of the file test.txt into the variable test2. Is there a difference between test 1 and test 2?\n",
    "with open('test.txt','r') as file:\n",
    "    test2 = file.read()\n",
    "    \n",
    "print(test2)   \n",
    "\n",
    "# There is no difference betweent test 1 nad test2 "
   ]
  },
  {
   "cell_type": "code",
   "execution_count": 8,
   "id": "4bcb97c0",
   "metadata": {},
   "outputs": [],
   "source": [
    "# 3. Create a CSV file called books.csv by using these lines:\n",
    "# title,author,year\n",
    "# The Weirdstone of Brisingamen,Alan Garner,1960\n",
    "# Perdido Street Station,China Miéville,2000\n",
    "# Thud!,Terry Pratchett,2005\n",
    "# The Spellman Files,Lisa Lutz,2007\n",
    "# Small Gods,Terry Pratchett,1992\n",
    "\n",
    "sample = '''title,author,year\n",
    "The Weirdstone of Brisingamen,Alan Garner,1960\n",
    "Perdido Street Station,China Miéville,2000\n",
    "Thud!,Terry Pratchett,2005\n",
    "The Spellman Files,Lisa Lutz,2007\n",
    "Small Gods,Terry Pratchett,1992'''\n",
    "\n",
    "with open('books.csv','w') as file:\n",
    "    file.write(sample)"
   ]
  },
  {
   "cell_type": "code",
   "execution_count": 9,
   "id": "f39781ac",
   "metadata": {},
   "outputs": [],
   "source": [
    "# 4. Use the sqlite3 module to create a SQLite database called books.db, \n",
    "# and a table called books with these fields: title (text), author (text), and year (integer).\n",
    "import sqlite3\n",
    "db = sqlite3.connect('books.db')\n",
    "cursor = db.cursor()\n",
    "cursor.execute(\"CREATE TABLE books (title text, author text, year int)\")\n",
    "db.commit()\n",
    "db.close()"
   ]
  },
  {
   "cell_type": "code",
   "execution_count": 11,
   "id": "6ef24d75",
   "metadata": {},
   "outputs": [],
   "source": [
    "# 5. Read books.csv and insert its data into the books table.\n",
    "import sqlite3\n",
    "import csv\n",
    "connector = sqlite3.connect(\"books.db\")\n",
    "cursor = connector.cursor()\n",
    "with open(\"books.csv\",\"r\") as file:\n",
    "    books = csv.DictReader(file)\n",
    "    for book in books:\n",
    "        cursor.execute(\"INSERT INTO books VALUES (?,?,?)\",(book['title'],book['author'],book['year']))\n",
    "connector.commit()\n",
    "connector.close()"
   ]
  },
  {
   "cell_type": "code",
   "execution_count": 16,
   "id": "8fa1cd72",
   "metadata": {},
   "outputs": [
    {
     "name": "stdout",
     "output_type": "stream",
     "text": [
      "Perdido Street Station\n",
      "Small Gods\n",
      "The Spellman Files\n",
      "The Weirdstone of Brisingamen\n",
      "Thud!\n"
     ]
    }
   ],
   "source": [
    "# 6. Select and print the title column from the books table in alphabetical order.\n",
    "import sqlite3\n",
    "connector = sqlite3.connect('books.db')\n",
    "cursor = connector.cursor()\n",
    "data = cursor.execute(\"SELECT title FROM books ORDER BY title ASC\")\n",
    "for ele in data:\n",
    "    print(ele[0])\n",
    "connector.commit()\n",
    "connector.close()"
   ]
  },
  {
   "cell_type": "code",
   "execution_count": 15,
   "id": "fa2e4cde",
   "metadata": {},
   "outputs": [
    {
     "name": "stdout",
     "output_type": "stream",
     "text": [
      "('The Weirdstone of Brisingamen', 'Alan Garner', 1960)\n",
      "('Small Gods', 'Terry Pratchett', 1992)\n",
      "('Perdido Street Station', 'China Miéville', 2000)\n",
      "('Thud!', 'Terry Pratchett', 2005)\n",
      "('The Spellman Files', 'Lisa Lutz', 2007)\n"
     ]
    }
   ],
   "source": [
    "# 7. From the books table, select and print all columns in the order of publication.\n",
    "import sqlite3\n",
    "connector  = sqlite3.connect('books.db')\n",
    "cursor = connector .cursor()\n",
    "data = cursor.execute(\"SELECT * FROM books ORDER BY year\")\n",
    "for i in data:\n",
    "    print(i)\n",
    "    \n",
    "connector.close()"
   ]
  },
  {
   "cell_type": "code",
   "execution_count": 17,
   "id": "9b85640b",
   "metadata": {},
   "outputs": [
    {
     "data": {
      "text/plain": [
       "Engine(sqlite:///books.db)"
      ]
     },
     "execution_count": 17,
     "metadata": {},
     "output_type": "execute_result"
    }
   ],
   "source": [
    "# 8. Use the sqlalchemy module to connect to the sqlite3 database books.db that you just made in exercise 6.\n",
    "import sqlalchemy\n",
    "connector = sqlalchemy.create_engine('sqlite:///books.db')\n",
    "connector"
   ]
  },
  {
   "cell_type": "code",
   "execution_count": 22,
   "id": "5e224f30",
   "metadata": {},
   "outputs": [
    {
     "name": "stdout",
     "output_type": "stream",
     "text": [
      "Requirement already satisfied: redis in d:\\anaconda\\lib\\site-packages (4.5.1)\n",
      "Requirement already satisfied: async-timeout>=4.0.2 in d:\\anaconda\\lib\\site-packages (from redis) (4.0.2)\n"
     ]
    }
   ],
   "source": [
    "# 9. Install the Redis server and the Python redis library (pip install redis) on your computer.\n",
    "# Create a Redis hash called test with the fields count (1) and name ('Fester Bestertester'). \n",
    "# Print all the fields for test.\n",
    "! python -m pip install redis"
   ]
  },
  {
   "cell_type": "code",
   "execution_count": null,
   "id": "a7623e25",
   "metadata": {},
   "outputs": [],
   "source": [
    "import redis\n",
    "redis_host = 'localhost'\n",
    "redis_port = 6379\n",
    "connector = redis.Redis(host=redis_host, port=redis_port)\n",
    "connector.hset('test',{\n",
    "    'count':1,\n",
    "    'name':'Fester Bestertester'\n",
    "})\n",
    "connector.hgetall('test')"
   ]
  },
  {
   "cell_type": "code",
   "execution_count": null,
   "id": "9dcf0333",
   "metadata": {},
   "outputs": [],
   "source": [
    "# 0. Increment the count field of test and print it.\n",
    "connector.hincrby('test', 'count', 1)\n",
    "connector.hget('test', 'count')"
   ]
  },
  {
   "cell_type": "code",
   "execution_count": null,
   "id": "8a8487d9",
   "metadata": {},
   "outputs": [],
   "source": []
  }
 ],
 "metadata": {
  "kernelspec": {
   "display_name": "Python 3 (ipykernel)",
   "language": "python",
   "name": "python3"
  },
  "language_info": {
   "codemirror_mode": {
    "name": "ipython",
    "version": 3
   },
   "file_extension": ".py",
   "mimetype": "text/x-python",
   "name": "python",
   "nbconvert_exporter": "python",
   "pygments_lexer": "ipython3",
   "version": "3.9.12"
  }
 },
 "nbformat": 4,
 "nbformat_minor": 5
}
