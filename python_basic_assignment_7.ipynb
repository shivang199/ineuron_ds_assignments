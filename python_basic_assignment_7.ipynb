{
 "cells": [
  {
   "cell_type": "code",
   "execution_count": null,
   "id": "f16e557f",
   "metadata": {},
   "outputs": [],
   "source": [
    "1. What is the name of the feature responsible for generating Regex objects?\n",
    "Ans:---re.compile() is the feature responsible for generation of Regex objects."
   ]
  },
  {
   "cell_type": "code",
   "execution_count": null,
   "id": "52c6f3a2",
   "metadata": {},
   "outputs": [],
   "source": [
    "2. Why do raw strings often appear in Regex objects?\n",
    "Ans:The backslash character ('\\') is used in regular expressions to denote special forms (Metacharacters) or to permit the usage of special characters (speical sequences) without evoking their specific meaning.\n",
    "This conflicts with Python's string literals, which use the same character for the same function.\n",
    "As backslashes do not need to be escaped, raw strings like r\"\\n\" are used. "
   ]
  },
  {
   "cell_type": "code",
   "execution_count": 2,
   "id": "58a2da11",
   "metadata": {},
   "outputs": [
    {
     "name": "stdout",
     "output_type": "stream",
     "text": [
      "<re.Match object; span=(25, 32), match='example'>\n"
     ]
    }
   ],
   "source": [
    "# 3. What is the return value of the search() method?\n",
    "# Ans:---  The function searches for some substring in a string and returns a match object if found, else it returns none.\n",
    "#     re.search() searches for the whole string even if the string contains multi-lines and tries to find a match of the substring in all the lines of string.\n",
    "import re\n",
    " \n",
    "substring=\"example\"\n",
    " \n",
    " \n",
    "string ='''this is the \n",
    "            example of the \n",
    "            multi line string'''\n",
    "\n",
    "print(re.search(substring, string, re.IGNORECASE))"
   ]
  },
  {
   "cell_type": "code",
   "execution_count": 4,
   "id": "55e48430",
   "metadata": {},
   "outputs": [
    {
     "name": "stdout",
     "output_type": "stream",
     "text": [
      "example\n"
     ]
    }
   ],
   "source": [
    "# 4. From a Match item, how do you get the actual strings that match the pattern?\n",
    "# Ans:---- using the group() method\n",
    "\n",
    "import re\n",
    " \n",
    "substring=\"example\"\n",
    " \n",
    " \n",
    "string ='''this is the \n",
    "            example of the \n",
    "            multi line string'''\n",
    "\n",
    "find = re.search(substring, string, re.IGNORECASE)\n",
    "\n",
    "print(find.group())\n"
   ]
  },
  {
   "cell_type": "code",
   "execution_count": 12,
   "id": "7dd45740",
   "metadata": {},
   "outputs": [
    {
     "name": "stdout",
     "output_type": "stream",
     "text": [
      "all grps: ('653', '234-2125')\n",
      "grp 0: 653-234-2125\n",
      "grp1: 653\n",
      "grp2: 234-2125\n"
     ]
    }
   ],
   "source": [
    "# 5. In the regex which created from the r'(\\d\\d\\d)-(\\d\\d\\d-\\d\\d\\d\\d)', what does group zero cover?\n",
    "# Group 2? Group 1?\n",
    "# Ans:--- In the Regex r'(\\d\\d\\d)-(\\d\\d\\d-\\d\\d\\d\\d)' the zero group covers the entire pattern match \n",
    "# where as the first group cover (\\d\\d\\d) and the second group cover (\\d\\d\\d-\\d\\d\\d\\d)\n",
    "import re\n",
    "string = re.compile(r'(\\d\\d\\d)-(\\d\\d\\d-\\d\\d\\d\\d)')\n",
    "find = string.search('653-234-2125')\n",
    "print(\"all grps:\",find.groups())\n",
    "print(\"grp 0:\",find.group())\n",
    "print(\"grp1:\",find.group(1)) \n",
    "print(\"grp2:\",find.group(2)) \n"
   ]
  },
  {
   "cell_type": "code",
   "execution_count": 22,
   "id": "f25206b7",
   "metadata": {},
   "outputs": [
    {
     "name": "stdout",
     "output_type": "stream",
     "text": [
      "(653) (234-2125)\n"
     ]
    }
   ],
   "source": [
    "# 6. In standard expression syntax, parentheses and intervals have distinct meanings. How can you tell\n",
    "# a regex that you want it to fit real parentheses and periods?\n",
    "# Ans: --- Backslashes can be used to escape periods and parentheses, such as \\., \\(, and \\).\n",
    "string = re.compile(r'(\\(\\d\\d\\d)\\) \\((\\d\\d\\d-\\d\\d\\d\\d)\\)')\n",
    "find = string.search('(653) (234-2125)')\n",
    "print(find.group()) "
   ]
  },
  {
   "cell_type": "code",
   "execution_count": 26,
   "id": "7dc99e99",
   "metadata": {},
   "outputs": [
    {
     "name": "stdout",
     "output_type": "stream",
     "text": [
      "['653-234-2125']\n",
      "[('653', '234-2125')]\n"
     ]
    }
   ],
   "source": [
    "# 7. The findall() method returns a string list or a list of string tuples. What causes it to return one of\n",
    "# the two options?\n",
    "# Ans:--- A list of strings is returned in the absence of any groups in the regex.\n",
    "# A list of string tuples is returned if the regex has groups. \n",
    "string = re.compile(r'\\d{3}-\\d{3}-\\d{4}')\n",
    "find = string.findall('653-234-2125')\n",
    "print(find)\n",
    "\n",
    "string = re.compile(r'(\\d\\d\\d)-(\\d\\d\\d-\\d\\d\\d\\d)')\n",
    "find = string.findall('653-234-2125')\n",
    "print(find)"
   ]
  },
  {
   "cell_type": "code",
   "execution_count": null,
   "id": "e660a447",
   "metadata": {},
   "outputs": [],
   "source": [
    "# 8. In standard expressions, what does the | character mean?\n",
    "# Ans:--- The | symbol denotes a \"either, or\" comparison between two groups"
   ]
  },
  {
   "cell_type": "code",
   "execution_count": null,
   "id": "d9ce5ce5",
   "metadata": {},
   "outputs": [],
   "source": [
    "# 9. In regular expressions, what does the character stand for?\n",
    "# Ans: character not mentioned "
   ]
  },
  {
   "cell_type": "code",
   "execution_count": null,
   "id": "14ae356f",
   "metadata": {},
   "outputs": [],
   "source": [
    "10.In regular expressions, what is the difference between the + and * characters?\n",
    "Ans:---In regular expressions, the symbol * denotes zero or more instances of the preceding group, \n",
    "    while the symbol + denotes one or more instances. "
   ]
  },
  {
   "cell_type": "code",
   "execution_count": null,
   "id": "482b5fba",
   "metadata": {},
   "outputs": [],
   "source": [
    "11. What is the difference between {4} and {4,5} in regular expression?\n",
    "Ans:---{4} indicates that the previous group should repeat itself four times.\n",
    "whereas {4,5} indicates that the preceding group should repeat at least four times and maximum five times, inclusive. "
   ]
  },
  {
   "cell_type": "code",
   "execution_count": null,
   "id": "b10b0389",
   "metadata": {},
   "outputs": [],
   "source": [
    "12. What do you mean by the \\d, \\w, and \\s shorthand character classes signify in regular\n",
    "expressions?\n",
    "ans:--The \\d, \\w, and \\s shorthand character classes match a single digit, word, or space character, respectively."
   ]
  },
  {
   "cell_type": "code",
   "execution_count": null,
   "id": "b6681718",
   "metadata": {},
   "outputs": [],
   "source": [
    "What do means by \\D, \\W, and \\S shorthand character classes signify in regular expressions?\n",
    "ans:---the \\D, \\W, and \\S shorthand character classes match a single character that is not a digit, word, or space character, respectively."
   ]
  },
  {
   "cell_type": "code",
   "execution_count": null,
   "id": "2bbb10a3",
   "metadata": {},
   "outputs": [],
   "source": [
    "14. What is the difference between .*? and .*?\n",
    "ans:Greedy match.* gives the longest string that satisfies the criterion.\n",
    "A non-greedy macth called.*? returns the smallest string that satisfies the criterion. \n",
    "    "
   ]
  },
  {
   "cell_type": "code",
   "execution_count": null,
   "id": "336eb044",
   "metadata": {},
   "outputs": [],
   "source": [
    "15. What is the syntax for matching both numbers and lowercase letters with a character class?\n",
    "ans:Either [0-9a-z] or [a-z0-9]\n",
    "    "
   ]
  },
  {
   "cell_type": "code",
   "execution_count": null,
   "id": "7b299a98",
   "metadata": {},
   "outputs": [],
   "source": [
    "16. What is the procedure for making a normal expression in regax case insensitive?\n",
    "ans:--we can make the matching case insensitive by passing re.I or re.IGNORECASE as the second argument to re.compile(). "
   ]
  },
  {
   "cell_type": "code",
   "execution_count": null,
   "id": "8a8642f9",
   "metadata": {},
   "outputs": [],
   "source": [
    "17. What does the . character normally match? What does it match if re.DOTALL is passed as 2nd\n",
    "argument in re.compile()?\n",
    "ans: With the exception of the newline character, the. character often matches any character.\n",
    "The dot will also match newline characters if re.DOTALL is passed as the second option to re.compile(). "
   ]
  },
  {
   "cell_type": "code",
   "execution_count": 28,
   "id": "f831a010",
   "metadata": {},
   "outputs": [
    {
     "data": {
      "text/plain": [
       "'X drummers, X pipers, five rings, X hen'"
      ]
     },
     "execution_count": 28,
     "metadata": {},
     "output_type": "execute_result"
    }
   ],
   "source": [
    "# 18. f numReg = re.compile(r'\\d+'), what will numRegex.sub('X', '11 drummers, 10 pipers, five rings, 4 hen') return?\n",
    "# ans: 'X drummers, X pipers, five rings, X hen'\n",
    "import re\n",
    "numRegex = re.compile(r'\\d+')\n",
    "numRegex.sub('X', '11 drummers, 10 pipers, five rings, 4 hen')"
   ]
  },
  {
   "cell_type": "code",
   "execution_count": null,
   "id": "c790c242",
   "metadata": {},
   "outputs": [],
   "source": [
    "19. What does passing re.VERBOSE as the 2nd argument to re.compile() allow to do?\n",
    "ans:--You can add whitespace and comments to the string supplied to re.compile using the re.VERBOSE option () "
   ]
  },
  {
   "cell_type": "code",
   "execution_count": 31,
   "id": "d67cab03",
   "metadata": {},
   "outputs": [
    {
     "name": "stdout",
     "output_type": "stream",
     "text": [
      "<re.Match object; span=(0, 2), match='42'>\n",
      "<re.Match object; span=(0, 5), match='1,234'>\n",
      "<re.Match object; span=(0, 9), match='6,368,745'>\n",
      "None\n",
      "None\n"
     ]
    }
   ],
   "source": [
    "# 20. How would you write a regex that match a number with comma for every three digits? It must\n",
    "# match the given following:\n",
    "# '42'\n",
    "\n",
    "# '1,234'\n",
    "\n",
    "# '6,368,745'\n",
    "\n",
    "# but not the following:\n",
    "\n",
    "# '12,34,567' (which has only two digits between the commas)\n",
    "\n",
    "# '1234' (which lacks commas)\n",
    "\n",
    "import re\n",
    "\n",
    "regex = re.compile(r'^\\d{1,3}(,\\d{3})*$')\n",
    "string1 = '42'\n",
    "for i in ['42','1,234', '6,368,745','12,34,567','1234']:\n",
    "    print(regex.search(i))"
   ]
  },
  {
   "cell_type": "code",
   "execution_count": null,
   "id": "42e410ff",
   "metadata": {},
   "outputs": [],
   "source": [
    "# How would you write a regex that matches the full name of someone whose last name is Watanabe? You can assume that the first name that comes before it will always be one word that begins with a capital letter. The regex must match the following:\n",
    "\n",
    "# 'Haruto Watanabe'\n",
    "\n",
    "# 'Alice Watanabe'\n",
    "\n",
    "# 'RoboCop Watanabe'\n",
    "\n",
    "# but not the following:\n",
    "\n",
    "# 'haruto Watanabe' (where the first name is not capitalized)\n",
    "\n",
    "# 'Mr. Watanabe' (where the preceding word has a nonletter character)\n",
    "\n",
    "# 'Watanabe' (which has no first name)\n",
    "\n",
    "# 'Haruto watanabe' (where Watanabe is not capitalized)\n",
    "\n",
    "ans: ---re.compile(r'[A-Z]{1}[a-z]*\\sWatanabe')\n",
    "    "
   ]
  },
  {
   "cell_type": "code",
   "execution_count": 37,
   "id": "0f5ea3ed",
   "metadata": {},
   "outputs": [
    {
     "name": "stdout",
     "output_type": "stream",
     "text": [
      "<re.Match object; span=(0, 18), match='Alice eats apples.'>\n",
      "<re.Match object; span=(0, 14), match='Bob pets cats.'>\n",
      "<re.Match object; span=(0, 23), match='Carol throws baseballs.'>\n",
      "<re.Match object; span=(0, 20), match='Alice throws Apples.'>\n",
      "<re.Match object; span=(0, 14), match='BOB EATS CATS.'>\n",
      "None\n",
      "None\n",
      "None\n"
     ]
    }
   ],
   "source": [
    "# How would you write a regex that matches a sentence where the first word is either Alice, Bob, or Carol; the second word is either eats, pets, or throws; the third word is apples, cats, or baseballs; and the sentence ends with a period? This regex should be case-insensitive. It must match the following:\n",
    "\n",
    "# 'Alice eats apples.'\n",
    "\n",
    "# 'Bob pets cats.'\n",
    "\n",
    "# 'Carol throws baseballs.'\n",
    "\n",
    "# 'Alice throws Apples.'\n",
    "\n",
    "# 'BOB EATS CATS.'\n",
    "\n",
    "# but not the following:\n",
    "\n",
    "# 'RoboCop eats apples.'\n",
    "\n",
    "# 'ALICE THROWS FOOTBALLS.'\n",
    "\n",
    "# 'Carol eats 7 cats.'\n",
    "\n",
    "# ans: --\n",
    "import re\n",
    "regex = re.compile(r'(Alice|Bob|Carol)\\s(eats|pets|throws)\\s(apples|cats|baseballs)\\.', re.IGNORECASE)\n",
    "for i in ['Alice eats apples.','Bob pets cats.','Carol throws baseballs.','Alice throws Apples.','BOB EATS CATS.','RoboCop eats apples.'\n",
    ",'ALICE THROWS FOOTBALLS.','Carol eats 7 cats.']:\n",
    "    print(regex.search(i))\n",
    "    "
   ]
  },
  {
   "cell_type": "code",
   "execution_count": null,
   "id": "87989ab6",
   "metadata": {},
   "outputs": [],
   "source": []
  }
 ],
 "metadata": {
  "kernelspec": {
   "display_name": "Python 3 (ipykernel)",
   "language": "python",
   "name": "python3"
  },
  "language_info": {
   "codemirror_mode": {
    "name": "ipython",
    "version": 3
   },
   "file_extension": ".py",
   "mimetype": "text/x-python",
   "name": "python",
   "nbconvert_exporter": "python",
   "pygments_lexer": "ipython3",
   "version": "3.9.12"
  }
 },
 "nbformat": 4,
 "nbformat_minor": 5
}
