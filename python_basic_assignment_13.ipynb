{
 "cells": [
  {
   "cell_type": "code",
   "execution_count": null,
   "id": "f55746d3",
   "metadata": {},
   "outputs": [],
   "source": [
    "1. What advantages do Excel spreadsheets have over CSV spreadsheets?\n",
    "ans: \n",
    "The Excel file formats (XLS and XLSX) are preferable for storing and analysing complicated data.\n",
    "Excel may perform actions on the data using macros, formulas, and other tools in addition to storing it.\n",
    "CSV files lack formatting, formulae, macros, and other data structures and are just text files.\n",
    "Flat files are another name for it. "
   ]
  },
  {
   "cell_type": "code",
   "execution_count": 1,
   "id": "2cd362fb",
   "metadata": {},
   "outputs": [
    {
     "name": "stdout",
     "output_type": "stream",
     "text": [
      "['1,raj,ambilpure']\n",
      "['2,rahul,deshmukh']\n",
      "['3,sameer,shah']\n"
     ]
    }
   ],
   "source": [
    "# 2.What do you pass to csv.reader() and csv.writer() to create reader and writer objects?\n",
    "import csv\n",
    "with open('writer.csv', 'w', newline='') as file:\n",
    "    writer = csv.writer(file)\n",
    "    writer.writerow([1, \"raj\", \"ambilpure\"])\n",
    "    writer.writerow([2, \"rahul\", \"deshmukh\"])\n",
    "    writer.writerow([3, \"sameer\", \"shah\"])\n",
    "    \n",
    "with open('writer.csv', 'r',) as file:\n",
    "    reader = csv.reader(file, delimiter = '\\t')\n",
    "    for row in reader:\n",
    "        print(row)"
   ]
  },
  {
   "cell_type": "code",
   "execution_count": null,
   "id": "439720ab",
   "metadata": {},
   "outputs": [],
   "source": [
    "3. What modes do File objects for reader and writer objects need to be opened in?\n",
    "reader file objects needed to be opened in read mode mode='r' \n",
    "writer file objects needed to be opened in write mode mode='w'"
   ]
  },
  {
   "cell_type": "code",
   "execution_count": null,
   "id": "2bf4eabe",
   "metadata": {},
   "outputs": [],
   "source": [
    "4. What method takes a list argument and writes it to a CSV file?\n",
    ": csv.writer class provides two methods for writing to CSV. They are writerow() and writerows(). \n",
    "    writerow() method writes a single row at a time.\n",
    "    Whereas writerows() method is used to write multiple rows at a time."
   ]
  },
  {
   "cell_type": "code",
   "execution_count": null,
   "id": "d21d5865",
   "metadata": {},
   "outputs": [],
   "source": [
    "5. What do the keyword arguments delimiter and line terminator do?\n",
    "The character that separates cells in a row is known as a delimiter.\n",
    "A comma serves as the delimiter by default for CSV files.\n",
    "The character that appears at the conclusion of a row is known as the line terminator.\n",
    "A newline is used as the line terminator by default.\n",
    "With the help of the delimiter and lineterminator keyword arguments, you may use csv.writer to convert characters to other values () "
   ]
  },
  {
   "cell_type": "code",
   "execution_count": null,
   "id": "c08dbee5",
   "metadata": {},
   "outputs": [],
   "source": [
    "6. What function takes a string of JSON data and returns a Python data structure?\n",
    "json.loads() method takes a string of JSON data and returns a Python data structure"
   ]
  },
  {
   "cell_type": "code",
   "execution_count": null,
   "id": "0698a63a",
   "metadata": {},
   "outputs": [],
   "source": [
    "7. What function takes a Python data structure and returns a string of JSON data?\n",
    "json.dumps() method takes a python data structure and returns a string of JSON data"
   ]
  }
 ],
 "metadata": {
  "kernelspec": {
   "display_name": "Python 3 (ipykernel)",
   "language": "python",
   "name": "python3"
  },
  "language_info": {
   "codemirror_mode": {
    "name": "ipython",
    "version": 3
   },
   "file_extension": ".py",
   "mimetype": "text/x-python",
   "name": "python",
   "nbconvert_exporter": "python",
   "pygments_lexer": "ipython3",
   "version": "3.9.12"
  }
 },
 "nbformat": 4,
 "nbformat_minor": 5
}
