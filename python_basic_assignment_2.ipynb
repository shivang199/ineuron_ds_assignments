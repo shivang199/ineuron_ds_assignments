{
 "cells": [
  {
   "cell_type": "code",
   "execution_count": null,
   "id": "db64468a",
   "metadata": {},
   "outputs": [],
   "source": [
    "1.What are the two values of the Boolean data type? How do you write them?\n",
    "ans:\n",
    "    True and False, we write them as T and F "
   ]
  },
  {
   "cell_type": "code",
   "execution_count": null,
   "id": "123837b7",
   "metadata": {},
   "outputs": [],
   "source": [
    "2.What are the three different types of Boolean operators?\n",
    "ans:\n",
    "    and , or and not"
   ]
  },
  {
   "cell_type": "code",
   "execution_count": null,
   "id": "4214d274",
   "metadata": {},
   "outputs": [],
   "source": [
    "3. Make a list of each Boolean operators truth tables (i.e. every possible combination of Boolean\n",
    "values for the operator and what it evaluate ).\n",
    "ans:\n",
    "   for and :\n",
    "    True and True is True.\n",
    "\n",
    "    True and False is False.\n",
    "\n",
    "    False and True is False.\n",
    "\n",
    "    False and False is Fals\n",
    "\n",
    "   for or : \n",
    "    True or True is True.\n",
    "\n",
    "    True or False is True.\n",
    "\n",
    "    False or True is True.\n",
    "\n",
    "    False or False is False.\n",
    "\n",
    "   for not:\n",
    "    not True is False.\n",
    "\n",
    "    not False is True.\n",
    "\n",
    "    "
   ]
  },
  {
   "cell_type": "code",
   "execution_count": null,
   "id": "a17ac6f9",
   "metadata": {},
   "outputs": [],
   "source": [
    "4. What are the values of the following expressions?\n",
    "(5 > 4) and (3 == 5) : Flase\n",
    "not (5 > 4) : False\n",
    "(5 > 4) or (3 == 5) : True\n",
    "not ((5 > 4) or (3 == 5)) : False\n",
    "(True and True) and (True == False) : False\n",
    "(not False) or (not True) : True"
   ]
  },
  {
   "cell_type": "code",
   "execution_count": null,
   "id": "c9bc6071",
   "metadata": {},
   "outputs": [],
   "source": [
    "5. What are the six comparison operators?\n",
    "ans :\n",
    "    equals to \"==\", not equal to \"!=\", less than \"<\", greater than \">\", less than equal to \"<=\", greater than equal to \">=\""
   ]
  },
  {
   "cell_type": "code",
   "execution_count": null,
   "id": "0108497a",
   "metadata": {},
   "outputs": [],
   "source": [
    "6. How do you tell the difference between the equal to and assignment operators?Describe a\n",
    "condition and when you would use one.\n",
    "ans:\n",
    "    \"=\" is the assignment operator that assigns a value to a variable, eg if x = 2 , this will assign x the value 2 \n",
    "    \"==\" is the equal to operator that compares two values and evaluates to if it is true or false. \n",
    "    eg :while if 2 == 3 this will check if the two values are equal and give true or false , in this case the output will be false"
   ]
  },
  {
   "cell_type": "code",
   "execution_count": null,
   "id": "ee303447",
   "metadata": {},
   "outputs": [],
   "source": [
    "#7. Identify the three blocks in this code:\n",
    "spam = 0\n",
    "if spam == 10:\n",
    "print(\"eggs\")\n",
    "if spam > 5:\n",
    "print(\"bacon\")\n",
    "else:\n",
    "print(\"ham\")\n",
    "print(\"spam\")\n",
    "print(\"spam\")\n",
    "\n",
    "ans: \n",
    "    everthing inside the if statement is part of the 3 blocks in this code ie \n",
    "    block 1 : \n",
    "        if spam == 10:\n",
    "        print(\"eggs\")\n",
    "    block 2 : \n",
    "        if spam > 5:\n",
    "        print(\"bacon\")\n",
    "    block 3 :\n",
    "        else:\n",
    "        print(\"ham\")\n",
    "        print(\"spam\")\n",
    "        print(\"spam\")"
   ]
  },
  {
   "cell_type": "code",
   "execution_count": null,
   "id": "1e734948",
   "metadata": {},
   "outputs": [],
   "source": [
    "#8. Write code that prints Hello if 1 is stored in spam, prints Howdy if 2 is stored in spam, and prints\n",
    "#Greetings! if anything else is stored in spam.\n",
    "#ans:\n",
    "spam = input(\"enter a number:\")\n",
    "if spam == \"1\":\n",
    "    print(\"Hello\")\n",
    "elif spam == \"2\":\n",
    "    print(\"Howdy\")\n",
    "else:\n",
    "    print(\"Greetings!\")"
   ]
  },
  {
   "cell_type": "code",
   "execution_count": null,
   "id": "b97a7d33",
   "metadata": {},
   "outputs": [],
   "source": [
    "9.If your programme is stuck in an endless loop, what keys you’ll press?\n",
    "ans:\n",
    "    cntrl + c is used to stop the program from runnig"
   ]
  },
  {
   "cell_type": "code",
   "execution_count": null,
   "id": "3fba4d1c",
   "metadata": {},
   "outputs": [],
   "source": [
    "10. How can you tell the difference between break and continue?\n",
    "ans :\n",
    "    Break is used to end a loop immediately.\n",
    "    while \"continue\" on the other hand ends the current iteration of the loop and starts the next iteration of the loop "
   ]
  },
  {
   "cell_type": "code",
   "execution_count": null,
   "id": "39c91201",
   "metadata": {},
   "outputs": [],
   "source": [
    "11. In a for loop, what is the difference between range(10), range(0, 10), and range(0, 10, 1)?\n",
    "ans:\n",
    "    \n",
    "    The range(10) call range from 0 to 9 (but not include 10)\n",
    "    The range (0,10) explicitly tells the loop to start at 0\n",
    "    The range(0,10,1) explicitly tells the loop to increase the variable by 1 on each iteration\n",
    "\n",
    "    "
   ]
  },
  {
   "cell_type": "code",
   "execution_count": 15,
   "id": "c4cc5394",
   "metadata": {},
   "outputs": [
    {
     "name": "stdout",
     "output_type": "stream",
     "text": [
      "1 2 3 4 5 6 7 8 9 10 \n",
      "\n",
      "1 2 3 4 5 6 7 8 9 10 "
     ]
    }
   ],
   "source": [
    "#12. Write a short program that prints the numbers 1 to 10 using a for loop. Then write an equivalent\n",
    "#program that prints the numbers 1 to 10 using a while loop.\n",
    "#ans:\n",
    "    \n",
    "for i in range(1,11):\n",
    "    print(i, end =\" \")\n",
    "print(\"\\n\")\n",
    "i = 1\n",
    "while i != 11:\n",
    "    print(i,end =\" \")\n",
    "    i = i+1"
   ]
  },
  {
   "cell_type": "code",
   "execution_count": null,
   "id": "62724df3",
   "metadata": {},
   "outputs": [],
   "source": [
    "#13. If you had a function named bacon() inside a module named spam, how would you call it after\n",
    "#importing spam?\n",
    "ans : \n",
    "    spam.bacon() is used to call the fucntion"
   ]
  }
 ],
 "metadata": {
  "celltoolbar": "Raw Cell Format",
  "kernelspec": {
   "display_name": "Python 3 (ipykernel)",
   "language": "python",
   "name": "python3"
  },
  "language_info": {
   "codemirror_mode": {
    "name": "ipython",
    "version": 3
   },
   "file_extension": ".py",
   "mimetype": "text/x-python",
   "name": "python",
   "nbconvert_exporter": "python",
   "pygments_lexer": "ipython3",
   "version": "3.9.12"
  }
 },
 "nbformat": 4,
 "nbformat_minor": 5
}
