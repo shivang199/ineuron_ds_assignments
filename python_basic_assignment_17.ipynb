{
 "cells": [
  {
   "cell_type": "code",
   "execution_count": 9,
   "id": "097c0bfd",
   "metadata": {
    "scrolled": true
   },
   "outputs": [
    {
     "name": "stdout",
     "output_type": "stream",
     "text": [
      "just right\n",
      "too high\n",
      "too low\n"
     ]
    }
   ],
   "source": [
    "# 1. Assign the value 7 to the variable guess_me. Then, write the conditional\n",
    "# tests (if, else, and elif) to print the string 'too low' if guess_me is less than 7,\n",
    "# 'too high' if greater than 7, and 'just right' if equal to 7.\n",
    "def guess(n):\n",
    "    guess_me = n\n",
    "    if guess_me == 7:\n",
    "        return \"just right\"\n",
    "    elif guess_me > 7: \n",
    "        return \"too high\"\n",
    "    else: return 'too low'\n",
    "\n",
    "print(guess(7))\n",
    "print(guess(8))\n",
    "print(guess(3))\n",
    "    "
   ]
  },
  {
   "cell_type": "code",
   "execution_count": 19,
   "id": "56f0713f",
   "metadata": {},
   "outputs": [
    {
     "name": "stdout",
     "output_type": "stream",
     "text": [
      "too low\n",
      "too low\n",
      "too low\n",
      "too low\n",
      "too low\n",
      "too low\n",
      "found it\n",
      "oops\n"
     ]
    }
   ],
   "source": [
    "# 2. Assign the value 7 to the variable guess_me and the value 1 to the variable start. \n",
    "# Write a while loop that compares start with guess_me. Print too low if start is less than guess me. \n",
    "# If start equals guess_me, print 'found it!' and exit the loop. If start is greater t\n",
    "# han guess_me, print 'oops' and exit the loop. Increment start at the end of the loop\n",
    "\n",
    "guess_me = 7\n",
    "start = 1\n",
    "while True:\n",
    "    if start < guess_me:\n",
    "        print(\"too low\")\n",
    "    elif start == guess_me:\n",
    "        print(\"found it\")\n",
    "    else: \n",
    "        print(\"oops\")\n",
    "        break\n",
    "    start = start + 1\n",
    "     \n"
   ]
  },
  {
   "cell_type": "code",
   "execution_count": 21,
   "id": "c2a9a26f",
   "metadata": {},
   "outputs": [
    {
     "name": "stdout",
     "output_type": "stream",
     "text": [
      "3\n",
      "2\n",
      "1\n",
      "0\n"
     ]
    }
   ],
   "source": [
    "# 3. Print the following values of the list [3, 2, 1, 0] using a for loop.\n",
    "sample_list =  [3, 2, 1, 0]\n",
    "for i in sample_list:\n",
    "    print(i)"
   ]
  },
  {
   "cell_type": "code",
   "execution_count": 25,
   "id": "950a8418",
   "metadata": {},
   "outputs": [
    {
     "data": {
      "text/plain": [
       "[0, 2, 4, 6, 8]"
      ]
     },
     "execution_count": 25,
     "metadata": {},
     "output_type": "execute_result"
    }
   ],
   "source": [
    "# 4. Use a list comprehension to make a list of the even numbers in range(10):\n",
    "even = [x for x in range(10) if x%2 == 0]\n",
    "even"
   ]
  },
  {
   "cell_type": "code",
   "execution_count": 26,
   "id": "9e220bb5",
   "metadata": {},
   "outputs": [
    {
     "data": {
      "text/plain": [
       "{0: 0, 1: 1, 2: 4, 3: 9, 4: 16, 5: 25, 6: 36, 7: 49, 8: 64, 9: 81}"
      ]
     },
     "execution_count": 26,
     "metadata": {},
     "output_type": "execute_result"
    }
   ],
   "source": [
    "# 5. Use a dictionary comprehension to create the dictionary squares. \n",
    "# Use range(10) to return the keys, and use the square of each key as its value.\n",
    "square = {x:x**2 for x in range(10)}\n",
    "square"
   ]
  },
  {
   "cell_type": "code",
   "execution_count": 28,
   "id": "43bf353f",
   "metadata": {},
   "outputs": [
    {
     "data": {
      "text/plain": [
       "{1, 3, 5, 7, 9}"
      ]
     },
     "execution_count": 28,
     "metadata": {},
     "output_type": "execute_result"
    }
   ],
   "source": [
    "# 6. Construct the set odd from the odd numbers in the range using a set comprehension (10).\n",
    "odd = {x for x in range(10) if x%2 != 0}\n",
    "odd"
   ]
  },
  {
   "cell_type": "code",
   "execution_count": 34,
   "id": "6891b2dc",
   "metadata": {},
   "outputs": [
    {
     "name": "stdout",
     "output_type": "stream",
     "text": [
      "Got 1\n",
      "Got 2\n",
      "Got 3\n",
      "Got 4\n",
      "Got 5\n",
      "Got 6\n",
      "Got 7\n",
      "Got 8\n",
      "Got 9\n"
     ]
    }
   ],
   "source": [
    "# 7. Use a generator comprehension to return the string 'Got ' and a number for the numbers in range(10). \n",
    "# Iterate through this by using a for loop\n",
    "generator_got = ('Got '+str(i) for i in range(10))\n",
    "next(generator_got)\n",
    "for i in generator_got:\n",
    "    print(i)"
   ]
  },
  {
   "cell_type": "code",
   "execution_count": 35,
   "id": "f208d069",
   "metadata": {},
   "outputs": [
    {
     "data": {
      "text/plain": [
       "['Harry', 'Ron', 'Hermione']"
      ]
     },
     "execution_count": 35,
     "metadata": {},
     "output_type": "execute_result"
    }
   ],
   "source": [
    "# 8. Define a function called good that returns the list ['Harry', 'Ron', 'Hermione'].\n",
    "def good():\n",
    "    return ['Harry', 'Ron', 'Hermione']\n",
    "\n",
    "good()"
   ]
  },
  {
   "cell_type": "code",
   "execution_count": 36,
   "id": "94cdf1a0",
   "metadata": {},
   "outputs": [
    {
     "name": "stdout",
     "output_type": "stream",
     "text": [
      "The third odd number is: 5\n"
     ]
    }
   ],
   "source": [
    "# 9. Define a generator function called get_odds that returns the odd numbers from range(10).\n",
    "# Use a for loop to find and print the third value returned.\n",
    "def get_odds():\n",
    "    for number in range(1, 10, 2):\n",
    "        yield number\n",
    "\n",
    "count = 1\n",
    "for odd_number in get_odds():\n",
    "    if count == 3:\n",
    "        print(\"The third value returned is:\", odd_number)\n",
    "        break\n",
    "    count += 1"
   ]
  },
  {
   "cell_type": "code",
   "execution_count": 38,
   "id": "c62c1ae6",
   "metadata": {},
   "outputs": [
    {
     "name": "stdout",
     "output_type": "stream",
     "text": [
      "Caught an oops\n"
     ]
    }
   ],
   "source": [
    "# 10. Define an exception called OopsException. Raise this exception to see what happens. \n",
    "# Then write the code to catch this exception and print 'Caught an oops'.\n",
    "class OopsException(Exception):\n",
    "    pass\n",
    "\n",
    "# raise OopsException(\"Something went wrong!\")\n",
    "\n",
    "try:\n",
    "    raise OopsException(\"Something went wrong!\")\n",
    "except OopsException:\n",
    "    print(\"Caught an oops\")"
   ]
  },
  {
   "cell_type": "code",
   "execution_count": 39,
   "id": "67df6e84",
   "metadata": {},
   "outputs": [
    {
     "data": {
      "text/plain": [
       "{'Creature of Habit': 'A nun turns into a monster',\n",
       " 'Crewel Fate': 'A haunted yarn shop'}"
      ]
     },
     "execution_count": 39,
     "metadata": {},
     "output_type": "execute_result"
    }
   ],
   "source": [
    "# 11. Use zip() to make a dictionary called movies that pairs these lists: titles = ['Creature of Habit', 'Crewel Fate'] \n",
    "#     and plots = ['A nun turns into a monster', 'A haunted yarn shop'].\n",
    "titles = ['Creature of Habit', 'Crewel Fate']\n",
    "plots = ['A nun turns into a monster', 'A haunted yarn shop']\n",
    "\n",
    "movies = dict(zip(titles, plots))\n",
    "\n",
    "movies"
   ]
  }
 ],
 "metadata": {
  "kernelspec": {
   "display_name": "Python 3 (ipykernel)",
   "language": "python",
   "name": "python3"
  },
  "language_info": {
   "codemirror_mode": {
    "name": "ipython",
    "version": 3
   },
   "file_extension": ".py",
   "mimetype": "text/x-python",
   "name": "python",
   "nbconvert_exporter": "python",
   "pygments_lexer": "ipython3",
   "version": "3.9.12"
  }
 },
 "nbformat": 4,
 "nbformat_minor": 5
}
