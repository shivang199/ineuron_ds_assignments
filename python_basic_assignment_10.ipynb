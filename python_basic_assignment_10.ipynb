{
 "cells": [
  {
   "cell_type": "code",
   "execution_count": null,
   "id": "da3b65de",
   "metadata": {},
   "outputs": [],
   "source": [
    "1. How do you distinguish between shutil.copy() and shutil.copytree()?\n",
    "ans -- As contrast to shutil. copy(), which copies a single file, \n",
    "shutil. copytree() copies a complete folder along with each folder and file that it contains. "
   ]
  },
  {
   "cell_type": "code",
   "execution_count": null,
   "id": "c4b045b6",
   "metadata": {},
   "outputs": [],
   "source": [
    "2. What function is used to rename files??\n",
    "ans -- os.rename() this function takes two arguments src and dest, \n",
    "src represents the name file/directory which we want to rename, \n",
    "whereas dest represents the new name of the file/directory."
   ]
  },
  {
   "cell_type": "code",
   "execution_count": null,
   "id": "53053ba5",
   "metadata": {},
   "outputs": [],
   "source": [
    "3. What is the difference between the delete functions in the send2trash and shutil modules?\n",
    "ans-- e send2trash functions will move a file or folder to the recycle bin,\n",
    "while shutil functions will permanently delete files and folders."
   ]
  },
  {
   "cell_type": "code",
   "execution_count": null,
   "id": "34f276bb",
   "metadata": {},
   "outputs": [],
   "source": [
    "4.ZipFile objects have a close() method just like File objects’ close() method. What ZipFile method is\n",
    "equivalent to File objects’ open() method?\n",
    "asn-- The zipfile.ZipFile() function is equivalent to the open() function; the first argument is the filename, \n",
    "and the second argument is the mode to open the ZIP file in (read, write, or append)."
   ]
  },
  {
   "cell_type": "code",
   "execution_count": 7,
   "id": "248e92ff",
   "metadata": {},
   "outputs": [
    {
     "name": "stdout",
     "output_type": "stream",
     "text": [
      "folder name : D:\\downloads2.0\\dummy\n",
      "subfolder name : ['dummy_internal']\n",
      "file name : ['assignment_2_shivang_agarwal.ipynb', 'challenges_shivang_submission.ipynb', 'python_basic_assignment_6.ipynb', 'python_basic_assignment_7.ipynb', 'python_basic_assignment_8.ipynb', 'python_basic_assignment_9.ipynb', 'questions.ipynb']\n",
      "folder name : D:\\downloads2.0\\dummy\\dummy_internal\n",
      "subfolder name : ['dummy_internal2', 'dummy_internnal3']\n",
      "file name : []\n",
      "folder name : D:\\downloads2.0\\dummy\\dummy_internal\\dummy_internal2\n",
      "subfolder name : []\n",
      "file name : ['assignment1_shivang_agarwal.ipynb', 'assignment4_shivang_agarwal.ipynb', 'assignment_005_shivang_agarwal.ipynb', 'assignment_3_shivang_agarwal.ipynb']\n",
      "folder name : D:\\downloads2.0\\dummy\\dummy_internal\\dummy_internnal3\n",
      "subfolder name : ['dummy_internal4']\n",
      "file name : ['python_basic_assignment_1.ipynb', 'python_basic_assignment_2.ipynb', 'python_basic_assignment_3.ipynb']\n",
      "folder name : D:\\downloads2.0\\dummy\\dummy_internal\\dummy_internnal3\\dummy_internal4\n",
      "subfolder name : []\n",
      "file name : ['python_basic_assignment_4.ipynb', 'python_basic_assignment_5.ipynb']\n"
     ]
    }
   ],
   "source": [
    "# 5. Create a programme that searches a folder tree for files with a certain file extension (such as .pdf\n",
    "# or .jpg). Copy these files from whatever location they are in to a new folder.\n",
    "# ans--\n",
    "import os, shutil\n",
    "\n",
    "def moveFileType(folder):\n",
    "    for folderName, subfolders, filenames in os.walk(folder):\n",
    "        print(f\"folder name : {folderName}\")\n",
    "        print(f\"subfolder name : {subfolders}\")\n",
    "        print(f\"file name : {filenames}\")\n",
    "        for filename in filenames:\n",
    "            if filename.endswith('.ipynb'):\n",
    "                shutil.copy(os.path.join(folderName, filename), r'D:\\downloads2.0\\destnation_new')\n",
    "                \n",
    "moveFileType(r\"D:\\downloads2.0\\dummy\")"
   ]
  },
  {
   "cell_type": "code",
   "execution_count": null,
   "id": "3a4e4114",
   "metadata": {},
   "outputs": [],
   "source": []
  }
 ],
 "metadata": {
  "kernelspec": {
   "display_name": "Python 3 (ipykernel)",
   "language": "python",
   "name": "python3"
  },
  "language_info": {
   "codemirror_mode": {
    "name": "ipython",
    "version": 3
   },
   "file_extension": ".py",
   "mimetype": "text/x-python",
   "name": "python",
   "nbconvert_exporter": "python",
   "pygments_lexer": "ipython3",
   "version": "3.9.12"
  }
 },
 "nbformat": 4,
 "nbformat_minor": 5
}
