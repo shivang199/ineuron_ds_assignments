{
 "cells": [
  {
   "cell_type": "code",
   "execution_count": null,
   "id": "641f1935",
   "metadata": {},
   "outputs": [],
   "source": [
    "1. In what modes should the PdfFileReader() and PdfFileWriter() File objects will be opened?\n",
    "File objects for PdfFileReader() should be opened in read binary mode, while those for \n",
    "PdfFileWriter() should be opened in write binary mode. \n"
   ]
  },
  {
   "cell_type": "code",
   "execution_count": null,
   "id": "d30b90df",
   "metadata": {},
   "outputs": [],
   "source": [
    "2. From a PdfFileReader object, how do you get a Page object for page 5?\n",
    " getPage(4) will return a Page object for page 5 "
   ]
  },
  {
   "cell_type": "code",
   "execution_count": null,
   "id": "96d9f00b",
   "metadata": {},
   "outputs": [],
   "source": [
    "3. What PdfFileReader variable stores the number of pages in the PDF document?\n",
    " getNumPages() method stores the number of pages present in the pdf"
   ]
  },
  {
   "cell_type": "code",
   "execution_count": null,
   "id": "931626b7",
   "metadata": {},
   "outputs": [],
   "source": [
    "4. If a PdfFileReader object’s PDF is encrypted with the password swordfish, what must you do\n",
    "before you can obtain Page objects from it?\n",
    "Use the decrypt() function offered by the PdfFileReader class if the pdf is encrypted before attempting to read its contents or pages; otherwise, PyPDF2 will raise the following error.\n",
    "Error code: PyPDF2.utils.PdfRead: file not decrypted \n",
    "        \n",
    "pdf_reader.decrypt(\"swordfish\")\n",
    "\n"
   ]
  },
  {
   "cell_type": "code",
   "execution_count": null,
   "id": "29c71eb0",
   "metadata": {},
   "outputs": [],
   "source": [
    "5. What methods do you use to rotate a page?\n",
    "\n",
    "rotateClockWise() -> For Clockwise rotation\n",
    "rotateCounterClockWise() -> For Counter Clockwise rotation\n"
   ]
  },
  {
   "cell_type": "code",
   "execution_count": null,
   "id": "3f1fb375",
   "metadata": {},
   "outputs": [],
   "source": [
    "6. What is the difference between a Run object and a Paragraph object?\n",
    "A collection of Paragraph objects representing the paragraphs in the document are contained in the Document object.\n",
    "(While typing in a Word document, pressing ENTER or RETURN causes a new paragraph to start.)\n",
    "One or more Run objects are listed in each of these Paragraph objects.\n",
    "\n",
    "A Word document's text is more complex than merely a string.\n",
    "It is styled in terms of font, size, colour, and other elements.\n",
    "In Word, a style is a grouping of these characteristics.\n",
    "A continuous run of text in the same style is referred to as a run object.\n",
    "The need for a new Run object arises whenever the text style does. "
   ]
  },
  {
   "cell_type": "code",
   "execution_count": null,
   "id": "3a225821",
   "metadata": {},
   "outputs": [],
   "source": [
    "7. How do you obtain a list of Paragraph objects for a Document object that’s stored in a variable\n",
    "named doc?\n",
    "\n",
    "print(doc.paragraphs)"
   ]
  },
  {
   "cell_type": "code",
   "execution_count": null,
   "id": "7c4b1ecb",
   "metadata": {},
   "outputs": [],
   "source": [
    "8. What type of object has bold, underline, italic, strike, and outline variables?\n",
    "The run object provides variables for bold, underline, italic, strike, and outline.\n",
    "A Word document's text is more complex than merely a string.\n",
    "It is styled in terms of font, size, colour, and other elements. "
   ]
  },
  {
   "cell_type": "code",
   "execution_count": null,
   "id": "0ddd563b",
   "metadata": {},
   "outputs": [],
   "source": [
    "9. What is the difference between False, True, and None for the bold variable?\n",
    "bold = False disable bold style\n",
    "bold = True  enable bold stlye\n",
    "bold = None bold style is Not Applicable"
   ]
  },
  {
   "cell_type": "code",
   "execution_count": null,
   "id": "8ed75cec",
   "metadata": {},
   "outputs": [],
   "source": [
    "10. How do you create a Document object for a new Word document?\n",
    "import docx\n",
    "doc = docx.Document()\n",
    "doc.add_heading('test document', 0)\n",
    "doc.add_paragraph('Your paragraph goes here, ')\n",
    "doc.save('document_test.docx')"
   ]
  },
  {
   "cell_type": "code",
   "execution_count": null,
   "id": "c800991e",
   "metadata": {},
   "outputs": [],
   "source": [
    "11. How do you add a paragraph with the text 'Hello, there!' to a Document object stored in a\n",
    "variable named doc?\n",
    "import docx\n",
    "doc = docx.Document()\n",
    "doc.add_paragraph('Hello, there!')\n",
    "doc.save('document_test.docx')"
   ]
  },
  {
   "cell_type": "code",
   "execution_count": null,
   "id": "b9a01c0d",
   "metadata": {},
   "outputs": [],
   "source": [
    "12. What integers represent the levels of headings available in Word documents?\n",
    "Using the level attribute in the add heading method, one can specify the levels for a heading in a word document.\n",
    "There are 5 levels altogether, ranging from 0 to 4.\n",
    "whereas level 1 is the primary heading, level 0 creates a headline with the horizontal line beneath the text.\n",
    "\n"
   ]
  }
 ],
 "metadata": {
  "kernelspec": {
   "display_name": "Python 3 (ipykernel)",
   "language": "python",
   "name": "python3"
  },
  "language_info": {
   "codemirror_mode": {
    "name": "ipython",
    "version": 3
   },
   "file_extension": ".py",
   "mimetype": "text/x-python",
   "name": "python",
   "nbconvert_exporter": "python",
   "pygments_lexer": "ipython3",
   "version": "3.9.12"
  }
 },
 "nbformat": 4,
 "nbformat_minor": 5
}
