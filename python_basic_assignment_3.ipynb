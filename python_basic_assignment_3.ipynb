{
 "cells": [
  {
   "cell_type": "raw",
   "id": "586702bb",
   "metadata": {},
   "source": [
    "q1 -Why are functions advantageous to have in your programs?\n",
    "ans: Reusability is the first justification.\n",
    "A function can be reused several times after it has been declared.\n",
    "The same function can be called repeatedly in your software, saving you time.\n"
   ]
  },
  {
   "cell_type": "raw",
   "id": "ac11f70b",
   "metadata": {},
   "source": [
    "# q2-When does the code in a function run: when it's specified or when it's called?\n",
    "ans : A function's code runs when it is called, not when it is defined. "
   ]
  },
  {
   "cell_type": "raw",
   "id": "72704429",
   "metadata": {},
   "source": [
    "q3 -What statement creates a function?\n",
    "ans The def statement creates a function by defining it."
   ]
  },
  {
   "cell_type": "raw",
   "id": "9bb7e4e5",
   "metadata": {},
   "source": [
    "q4 - What is the difference between a function and a function call?\n",
    "ans:The code in the def clause and the def statement make up a function.\n",
    "The program execution enters the function by a function call, and the function call evaluates to the return value of the function. "
   ]
  },
  {
   "cell_type": "raw",
   "id": "dda5fb24",
   "metadata": {},
   "source": [
    "5. How many global scopes are there in a Python program? How many local scopes?\n",
    "ans:There is one global scope, and a local scope is created whenever a function is called."
   ]
  },
  {
   "cell_type": "raw",
   "id": "504d4e88",
   "metadata": {},
   "source": [
    "6.What happens to variables in a local scope when the function call returns?\n",
    "ans:The local scope is destroyed and all the variables in it are lost after a function completes. "
   ]
  },
  {
   "cell_type": "raw",
   "id": "01c1bb83",
   "metadata": {},
   "source": [
    "7. What is the concept of a return value? Is it possible to have a return value in an expression?\n",
    "ans:The result of a function call is its return value.\n",
    "A return value can be incorporated into an expression just like any other value. "
   ]
  },
  {
   "cell_type": "raw",
   "id": "a1628777",
   "metadata": {},
   "source": [
    "8. If a function does not have a return statement, what is the return value of a call to that function?\n",
    "ans:A function's return value is None if there is no return statement for it. "
   ]
  },
  {
   "cell_type": "raw",
   "id": "1ddef1c0",
   "metadata": {},
   "source": [
    "9. How do you make a function variable refer to the global variable?\n",
    "ans:A function variable will be forced to refer to the global variable by a global statement. "
   ]
  },
  {
   "cell_type": "raw",
   "id": "724dcc22",
   "metadata": {},
   "source": [
    "10. What is the data type of None?\n",
    "ans:The data type of None is NoneType."
   ]
  },
  {
   "cell_type": "raw",
   "id": "a31bbed6",
   "metadata": {},
   "source": [
    "11. What does the sentence import areallyourpetsnamederic do?\n",
    "ans:That import statement imports a module named areallyourpetsnamederic.\n"
   ]
  },
  {
   "cell_type": "raw",
   "id": "439ee333",
   "metadata": {},
   "source": [
    "12. If you had a bacon() feature in a spam module, what would you call it after importing spam?\n",
    "ans:With spam.bacon(), you can call this function (). "
   ]
  },
  {
   "cell_type": "raw",
   "id": "7de316f4",
   "metadata": {},
   "source": [
    "13. What can you do to save a programme from crashing if it encounters an error?\n",
    "ans:Put a try clause around the line of code that might go wrong. \n"
   ]
  },
  {
   "cell_type": "raw",
   "id": "bb746063",
   "metadata": {},
   "source": [
    "14. What is the purpose of the try clause? What is the purpose of the except clause?\n",
    "ans:The try clause contains the code that can potentially result in an error.\n",
    "The except clause contains the code that is run in the event of an error. "
   ]
  }
 ],
 "metadata": {
  "kernelspec": {
   "display_name": "Python 3 (ipykernel)",
   "language": "python",
   "name": "python3"
  },
  "language_info": {
   "codemirror_mode": {
    "name": "ipython",
    "version": 3
   },
   "file_extension": ".py",
   "mimetype": "text/x-python",
   "name": "python",
   "nbconvert_exporter": "python",
   "pygments_lexer": "ipython3",
   "version": "3.9.12"
  }
 },
 "nbformat": 4,
 "nbformat_minor": 5
}
