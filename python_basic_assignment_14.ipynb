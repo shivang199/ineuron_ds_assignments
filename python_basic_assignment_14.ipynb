{
 "cells": [
  {
   "cell_type": "code",
   "execution_count": null,
   "id": "9d03ace1",
   "metadata": {},
   "outputs": [],
   "source": [
    "1. What does RGBA stand for?\n",
    "Four-channel data in the RGBA format includes information for Red, Green, Blue, and an Alpha value.\n",
    "While Alpha Denotes Opacity "
   ]
  },
  {
   "cell_type": "code",
   "execution_count": null,
   "id": "7ce9d3d2",
   "metadata": {},
   "outputs": [],
   "source": [
    "2. From the Pillow module, how do you get the RGBA value of any images?\n",
    "ImageColor.getcolor() gives rgba value of any image"
   ]
  },
  {
   "cell_type": "code",
   "execution_count": null,
   "id": "a18ff92e",
   "metadata": {},
   "outputs": [],
   "source": [
    "3. What is a box tuple, and how does it work?\n",
    "A box tuple is a tuple value made up of four integers: the width,\n",
    "the height, the left edge's x-coordinate, and its top edge's y-coordinate. "
   ]
  },
  {
   "cell_type": "code",
   "execution_count": null,
   "id": "480ae263",
   "metadata": {},
   "outputs": [],
   "source": [
    "# 4. Use your image and load in notebook then, How can you find out the width and height of an\n",
    "# Image object?\n",
    "from PIL import Image\n",
    "pic = Image.open('image.jpg')\n",
    "print(pic.size) "
   ]
  },
  {
   "cell_type": "code",
   "execution_count": null,
   "id": "4b187b9d",
   "metadata": {},
   "outputs": [],
   "source": [
    "5. What method would you call to get Image object for a 100×100 image, excluding the lower-left\n",
    "quarter of it?\n",
    "from PIL import Image\n",
    "pic = Image.open('image.jpg')\n",
    "new-pic = pic.crop((0,50,50,50))"
   ]
  },
  {
   "cell_type": "code",
   "execution_count": null,
   "id": "32e76807",
   "metadata": {},
   "outputs": [],
   "source": [
    "6. After making changes to an Image object, how could you save it as an image file?\n",
    "from PIL import Image\n",
    "pic = Image.open('image.jpg')\n",
    "pic.save('image_new.jpg')"
   ]
  },
  {
   "cell_type": "code",
   "execution_count": null,
   "id": "0601f72b",
   "metadata": {},
   "outputs": [],
   "source": [
    "7. What module contains Pillow’s shape-drawing code?\n",
    "Shape drawing methods are included in the Pillows ImageDraw module. "
   ]
  },
  {
   "cell_type": "code",
   "execution_count": null,
   "id": "75b24cc7",
   "metadata": {},
   "outputs": [],
   "source": [
    "8. Image objects do not have drawing methods. What kind of object does? How do you get this kind\n",
    "of object?\n",
    "Shape-drawing techniques for ImageDraw objects include point(), line(), and rectangle ().\n",
    "By providing the Image object to the ImageDraw function, they are returned.\n",
    "Function Draw(). "
   ]
  }
 ],
 "metadata": {
  "kernelspec": {
   "display_name": "Python 3 (ipykernel)",
   "language": "python",
   "name": "python3"
  },
  "language_info": {
   "codemirror_mode": {
    "name": "ipython",
    "version": 3
   },
   "file_extension": ".py",
   "mimetype": "text/x-python",
   "name": "python",
   "nbconvert_exporter": "python",
   "pygments_lexer": "ipython3",
   "version": "3.9.12"
  }
 },
 "nbformat": 4,
 "nbformat_minor": 5
}
